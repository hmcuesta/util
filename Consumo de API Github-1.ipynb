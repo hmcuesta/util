{
 "cells": [
  {
   "cell_type": "markdown",
   "metadata": {},
   "source": [
    "# Primeros pasos consumiendo el API de Github \n",
    "#### Instalacion con Pip Install de github3.py\n",
    "#### Link a documentacion https://github3.readthedocs.io/en/master/api-reference/github.html"
   ]
  },
  {
   "cell_type": "code",
   "execution_count": 1,
   "metadata": {
    "collapsed": false
   },
   "outputs": [
    {
     "name": "stdout",
     "output_type": "stream",
     "text": [
      "Collecting github3.py\n",
      "\u001b[?25l  Downloading https://files.pythonhosted.org/packages/00/cb/ee49ebb79f900b6fe37f53e128ad63d0d0d7bd72caee2a47bd813f046bbc/github3.py-1.2.0-py2.py3-none-any.whl (142kB)\n",
      "\u001b[K    100% |████████████████████████████████| 143kB 1.3MB/s ta 0:00:01\n",
      "\u001b[?25hCollecting jwcrypto>=0.5.0 (from github3.py)\n",
      "\u001b[?25l  Downloading https://files.pythonhosted.org/packages/f0/0d/00173a6aee1025e529b21c365182c8d06e78b1beb98d5633f841da6f122e/jwcrypto-0.6.0-py2.py3-none-any.whl (73kB)\n",
      "\u001b[K    100% |████████████████████████████████| 81kB 1.9MB/s eta 0:00:01\n",
      "\u001b[?25hCollecting requests>=2.18 (from github3.py)\n",
      "\u001b[?25l  Downloading https://files.pythonhosted.org/packages/7d/e3/20f3d364d6c8e5d2353c72a67778eb189176f08e873c9900e10c0287b84b/requests-2.21.0-py2.py3-none-any.whl (57kB)\n",
      "\u001b[K    100% |████████████████████████████████| 61kB 1.2MB/s ta 0:00:011\n",
      "\u001b[?25hRequirement already satisfied: python-dateutil>=2.6.0 in /Users/hectorcuesta1/anaconda/lib/python2.7/site-packages (from github3.py) (2.6.0)\n",
      "Collecting uritemplate>=3.0.0 (from github3.py)\n",
      "  Downloading https://files.pythonhosted.org/packages/f6/25/66a49231b44409d7f07cfcf2506a8b070ce3c99fc47cc256bea833f24791/uritemplate-3.0.0-py2-none-any.whl\n",
      "Requirement already satisfied: cryptography>=1.5 in /Users/hectorcuesta1/anaconda/lib/python2.7/site-packages (from jwcrypto>=0.5.0->github3.py) (1.7.1)\n",
      "Collecting idna<2.9,>=2.5 (from requests>=2.18->github3.py)\n",
      "\u001b[?25l  Downloading https://files.pythonhosted.org/packages/14/2c/cd551d81dbe15200be1cf41cd03869a46fe7226e7450af7a6545bfc474c9/idna-2.8-py2.py3-none-any.whl (58kB)\n",
      "\u001b[K    100% |████████████████████████████████| 61kB 1.8MB/s ta 0:00:011\n",
      "\u001b[?25hCollecting chardet<3.1.0,>=3.0.2 (from requests>=2.18->github3.py)\n",
      "\u001b[?25l  Downloading https://files.pythonhosted.org/packages/bc/a9/01ffebfb562e4274b6487b4bb1ddec7ca55ec7510b22e4c51f14098443b8/chardet-3.0.4-py2.py3-none-any.whl (133kB)\n",
      "\u001b[K    100% |████████████████████████████████| 143kB 1.5MB/s ta 0:00:01\n",
      "\u001b[?25hCollecting certifi>=2017.4.17 (from requests>=2.18->github3.py)\n",
      "\u001b[?25l  Downloading https://files.pythonhosted.org/packages/9f/e0/accfc1b56b57e9750eba272e24c4dddeac86852c2bebd1236674d7887e8a/certifi-2018.11.29-py2.py3-none-any.whl (154kB)\n",
      "\u001b[K    100% |████████████████████████████████| 163kB 1.0MB/s ta 0:00:01\n",
      "\u001b[?25hCollecting urllib3<1.25,>=1.21.1 (from requests>=2.18->github3.py)\n",
      "\u001b[?25l  Downloading https://files.pythonhosted.org/packages/62/00/ee1d7de624db8ba7090d1226aebefab96a2c71cd5cfa7629d6ad3f61b79e/urllib3-1.24.1-py2.py3-none-any.whl (118kB)\n",
      "\u001b[K    100% |████████████████████████████████| 122kB 1.6MB/s ta 0:00:01\n",
      "\u001b[?25hRequirement already satisfied: six>=1.5 in /Users/hectorcuesta1/anaconda/lib/python2.7/site-packages (from python-dateutil>=2.6.0->github3.py) (1.11.0)\n",
      "Requirement already satisfied: pyasn1>=0.1.8 in /Users/hectorcuesta1/anaconda/lib/python2.7/site-packages (from cryptography>=1.5->jwcrypto>=0.5.0->github3.py) (0.1.9)\n",
      "Requirement already satisfied: setuptools>=11.3 in /Users/hectorcuesta1/anaconda/lib/python2.7/site-packages (from cryptography>=1.5->jwcrypto>=0.5.0->github3.py) (40.2.0)\n",
      "Requirement already satisfied: enum34 in /Users/hectorcuesta1/anaconda/lib/python2.7/site-packages (from cryptography>=1.5->jwcrypto>=0.5.0->github3.py) (1.1.6)\n",
      "Requirement already satisfied: ipaddress in /Users/hectorcuesta1/anaconda/lib/python2.7/site-packages (from cryptography>=1.5->jwcrypto>=0.5.0->github3.py) (1.0.18)\n",
      "Requirement already satisfied: cffi>=1.4.1 in /Users/hectorcuesta1/anaconda/lib/python2.7/site-packages (from cryptography>=1.5->jwcrypto>=0.5.0->github3.py) (1.9.1)\n",
      "Requirement already satisfied: pycparser in /Users/hectorcuesta1/anaconda/lib/python2.7/site-packages (from cffi>=1.4.1->cryptography>=1.5->jwcrypto>=0.5.0->github3.py) (2.17)\n",
      "Installing collected packages: jwcrypto, idna, chardet, certifi, urllib3, requests, uritemplate, github3.py\n",
      "  Found existing installation: idna 2.2\n",
      "    Uninstalling idna-2.2:\n",
      "      Successfully uninstalled idna-2.2\n",
      "  Found existing installation: chardet 2.3.0\n",
      "    Uninstalling chardet-2.3.0:\n",
      "      Successfully uninstalled chardet-2.3.0\n",
      "  Found existing installation: requests 2.12.4\n",
      "    Uninstalling requests-2.12.4:\n",
      "      Successfully uninstalled requests-2.12.4\n",
      "Successfully installed certifi-2018.11.29 chardet-3.0.4 github3.py-1.2.0 idna-2.8 jwcrypto-0.6.0 requests-2.21.0 uritemplate-3.0.0 urllib3-1.24.1\n",
      "\u001b[33mYou are using pip version 18.0, however version 18.1 is available.\n",
      "You should consider upgrading via the 'pip install --upgrade pip' command.\u001b[0m\n"
     ]
    }
   ],
   "source": [
    "!pip install github3.py"
   ]
  },
  {
   "cell_type": "markdown",
   "metadata": {},
   "source": [
    "#### Login en github con usuario y password"
   ]
  },
  {
   "cell_type": "code",
   "execution_count": 1,
   "metadata": {
    "collapsed": true
   },
   "outputs": [],
   "source": [
    "from github3 import login\n",
    "gh = login('hmcuesta', password='*******')\n",
    "hector = gh.me()"
   ]
  },
  {
   "cell_type": "markdown",
   "metadata": {},
   "source": [
    "##### Probamos la conexion pidiendo la infromacion basica de la cuenta"
   ]
  },
  {
   "cell_type": "code",
   "execution_count": 5,
   "metadata": {
    "collapsed": false
   },
   "outputs": [
    {
     "name": "stdout",
     "output_type": "stream",
     "text": [
      "Hector Cuesta-Arvizu\n",
      "hmcuesta\n",
      "136\n"
     ]
    }
   ],
   "source": [
    "print(hector.name)\n",
    "print(hector.login)\n",
    "print(hector.followers_count)"
   ]
  },
  {
   "cell_type": "markdown",
   "metadata": {},
   "source": [
    "#### Iteramos los followers del usuario"
   ]
  },
  {
   "cell_type": "code",
   "execution_count": 6,
   "metadata": {
    "collapsed": false
   },
   "outputs": [
    {
     "name": "stdout",
     "output_type": "stream",
     "text": [
      "cubu\n",
      "alstat\n",
      "pdzino\n",
      "JanahanGnanachandran\n",
      "serlys\n",
      "huang-ying\n",
      "proullon\n",
      "shirobert\n",
      "RobTAT\n",
      "mshivaji\n",
      "cggg88jorge\n",
      "gabstehr\n",
      "ukituki\n",
      "josephmisiti\n",
      "kalber\n",
      "micaleel\n",
      "ilovejs\n",
      "NguyenNhatNam\n",
      "rugi\n",
      "AlfonsoCastilloC\n",
      "arnaldorusso\n",
      "menorki\n",
      "sxfmol\n",
      "thejeshgn\n",
      "Valeriy-Burlaka\n",
      "tacensi\n",
      "xavifrasno\n",
      "craigchen\n",
      "umangjoshi13\n",
      "barliant\n",
      "Jarochomocho\n",
      "pramodschavan\n",
      "dkocich\n",
      "danielalarcon\n",
      "lyjamare\n",
      "hectorip\n",
      "linfengzhou\n",
      "tanjiti\n",
      "MortalCatalyst\n",
      "ettorerizza\n",
      "ZJCODE\n",
      "monajalal\n",
      "TheSuperJez\n",
      "Florents-Tselai\n",
      "HoHowei\n",
      "Jackmaol\n",
      "CharlesCrous\n",
      "focusonit\n",
      "angusshire\n",
      "ypthno\n",
      "muhammedsaid\n",
      "elviswf\n",
      "appledut\n",
      "AkiraKane\n",
      "beeva-fernandobordallo\n",
      "pythonlearner7\n",
      "yuugazeng\n",
      "freddyiniguez\n",
      "harishpichukala\n",
      "ramAdam\n",
      "wenh123\n",
      "wenqinghou\n",
      "dportabella\n",
      "juanvazqmont\n",
      "toxtli\n",
      "texdanny\n",
      "kwhaler\n",
      "motercode\n",
      "yan92\n",
      "yinhang-e5b0b9e888aa\n",
      "ChewyVolta\n",
      "mysky528\n",
      "the-404\n",
      "techflux\n",
      "CrixMeraki\n",
      "pyennamp\n",
      "gitrobtest\n",
      "phoanghuong86\n",
      "shaweiguo\n",
      "likeconan\n",
      "iliopoul\n",
      "ChenRussell\n",
      "dickienaut\n",
      "danielscarvalho\n",
      "marcodesouza\n",
      "lanshiren\n",
      "lewoer\n",
      "mrcastaneda\n",
      "sunnyc7\n",
      "zhangslob\n",
      "manoxs\n",
      "leidysp8\n",
      "ProMadGenius\n",
      "xmnlab\n",
      "riyadhbd\n",
      "marekdetko\n",
      "neodevelop\n",
      "sty945\n",
      "yizhibenpao\n",
      "anhnguyendepocen\n",
      "sjxu91\n",
      "1225358814\n",
      "skysp\n",
      "nevermindsea\n",
      "tianhuiht\n",
      "zhiyiorlvmu\n",
      "praxitelisk\n",
      "alinardz\n",
      "Alejandrosg11\n",
      "diurivj\n",
      "Hugada\n",
      "AnishXavier\n",
      "javier89\n",
      "paulmelki\n",
      "batermj\n",
      "wuying1995\n",
      "rahmat14\n",
      "AreYouQQ\n",
      "charliemeandyou163\n",
      "MohamedBaligh\n",
      "searchs\n",
      "ousaidu\n",
      "andrewminai24\n",
      "saayedalam\n",
      "nfultz\n",
      "Dunij\n",
      "akinaTRUENO\n",
      "vaniarey\n",
      "jailsonpj\n",
      "pkralik\n",
      "pdunlapny\n",
      "chaossix\n",
      "thinker84\n",
      "lydia0627\n",
      "omarVild\n",
      "LastFromtheTop\n"
     ]
    }
   ],
   "source": [
    "for f in gh.followers():\n",
    "    print(str(f))"
   ]
  },
  {
   "cell_type": "code",
   "execution_count": 8,
   "metadata": {
    "collapsed": false
   },
   "outputs": [
    {
     "name": "stdout",
     "output_type": "stream",
     "text": [
      "Omar Villalpando\n",
      "omarVild\n",
      "2\n"
     ]
    }
   ],
   "source": [
    "query = gh.user('omarVild')\n",
    "print(query.name)\n",
    "print(query.login)\n",
    "print(query.followers_count)"
   ]
  },
  {
   "cell_type": "code",
   "execution_count": 16,
   "metadata": {
    "collapsed": false
   },
   "outputs": [],
   "source": [
    "followers = [str(f) for f in gh.followers_of('omarVild')]"
   ]
  },
  {
   "cell_type": "code",
   "execution_count": 17,
   "metadata": {
    "collapsed": false
   },
   "outputs": [
    {
     "data": {
      "text/plain": [
       "['5uRFi', 'hmcuesta']"
      ]
     },
     "execution_count": 17,
     "metadata": {},
     "output_type": "execute_result"
    }
   ],
   "source": [
    "followers"
   ]
  },
  {
   "cell_type": "code",
   "execution_count": 3,
   "metadata": {
    "collapsed": false
   },
   "outputs": [
    {
     "name": "stdout",
     "output_type": "stream",
     "text": [
      "4997\n",
      "{u'public_repos': 7, u'site_admin': False, u'subscriptions_url': u'https://api.github.com/users/omarVild/subscriptions', u'gravatar_id': u'', u'hireable': None, u'id': 20667628, u'followers_url': u'https://api.github.com/users/omarVild/followers', u'following_url': u'https://api.github.com/users/omarVild/following{/other_user}', u'blog': u'https://www.linkedin.com/in/gerardo-omar-v-29aba3122', u'followers': 2, u'location': u'M\\xe9xico', u'type': u'User', u'email': None, u'bio': u'Software developer\\r\\nActualmente estoy muy interesado en tecnolog\\xedas como DeepLearning y Machine Learning con python, TensorFlow y Scikit-Learn.', u'gists_url': u'https://api.github.com/users/omarVild/gists{/gist_id}', u'company': None, u'events_url': u'https://api.github.com/users/omarVild/events{/privacy}', u'html_url': u'https://github.com/omarVild', u'updated_at': u'2018-12-22T19:41:06Z', u'node_id': u'MDQ6VXNlcjIwNjY3NjI4', u'received_events_url': u'https://api.github.com/users/omarVild/received_events', u'starred_url': u'https://api.github.com/users/omarVild/starred{/owner}{/repo}', u'public_gists': 0, u'name': u'Omar Villalpando', u'organizations_url': u'https://api.github.com/users/omarVild/orgs', u'url': u'https://api.github.com/users/omarVild', u'created_at': u'2016-07-26T17:31:05Z', u'avatar_url': u'https://avatars3.githubusercontent.com/u/20667628?v=4', u'repos_url': u'https://api.github.com/users/omarVild/repos', u'following': 2, u'login': u'omarVild'}\n",
      "{u'issues_url': u'https://api.github.com/orgs/collective/issues', u'public_members_url': u'https://api.github.com/orgs/collective/public_members{/member}', u'has_repository_projects': True, u'updated_at': u'2018-12-14T15:26:32Z', u'id': 362867, u'blog': u'http://collective.github.io', u'followers': 0, u'location': u'Global', u'is_verified': False, u'email': u'', u'public_repos': 1635, u'members_url': u'https://api.github.com/orgs/collective/members{/member}', u'description': u'Plone add-ons shared code repositories', u'has_organization_projects': True, u'company': None, u'events_url': u'https://api.github.com/orgs/collective/events', u'html_url': u'https://github.com/collective', u'node_id': u'MDEyOk9yZ2FuaXphdGlvbjM2Mjg2Nw==', u'hooks_url': u'https://api.github.com/orgs/collective/hooks', u'public_gists': 0, u'name': u'Collective', u'url': u'https://api.github.com/orgs/collective', u'type': u'Organization', u'created_at': u'2010-08-13T00:04:43Z', u'avatar_url': u'https://avatars1.githubusercontent.com/u/362867?v=4', u'repos_url': u'https://api.github.com/orgs/collective/repos', u'following': 0, u'login': u'collective'}\n"
     ]
    }
   ],
   "source": [
    "query = gh.user('omarVild')\n",
    "o = gh.organization('collective')\n",
    "print(query.ratelimit_remaining)\n",
    "print(query.as_dict())\n",
    "print(o.as_dict())"
   ]
  },
  {
   "cell_type": "markdown",
   "metadata": {},
   "source": [
    "##### Contamos el numero total de commits del usuario"
   ]
  },
  {
   "cell_type": "code",
   "execution_count": 49,
   "metadata": {
    "collapsed": false
   },
   "outputs": [
    {
     "name": "stdout",
     "output_type": "stream",
     "text": [
      "100-Days-Of-ML-Code\n",
      "2018-08-21T22:42:45Z\n",
      "0\n",
      "0\n",
      "96\n",
      "awesome-machine-learning\n",
      "2016-04-01T19:43:46Z\n",
      "1\n",
      "0\n",
      "0\n",
      "awesome-public-datasets\n",
      "2016-02-22T23:27:52Z\n",
      "2\n",
      "1\n",
      "0\n",
      "AxiaRobotics\n",
      "2015-02-11T02:48:35Z\n",
      "0\n",
      "0\n",
      "0\n",
      "benchm-ml\n",
      "2016-04-01T19:42:39Z\n",
      "0\n",
      "0\n",
      "0\n",
      "BigData-Bootcamp\n",
      "2015-08-24T23:44:55Z\n",
      "3\n",
      "1\n",
      "0\n",
      "chess-alpha-zero\n",
      "2018-03-03T19:18:44Z\n",
      "0\n",
      "0\n",
      "2\n",
      "clases-python-cientifico\n",
      "2018-07-04T19:17:17Z\n",
      "0\n",
      "0\n",
      "0\n",
      "cookbook-2nd-code\n",
      "2018-11-13T20:32:02Z\n",
      "0\n",
      "0\n",
      "9\n",
      "CursoHadoopSG\n",
      "2015-05-26T22:56:42Z\n",
      "3\n",
      "1\n",
      "0\n",
      "CursoSGDA\n",
      "2014-08-18T23:01:06Z\n",
      "0\n",
      "0\n",
      "0\n",
      "Datasets\n",
      "2016-09-25T17:53:41Z\n",
      "0\n",
      "0\n",
      "0\n",
      "Datasets-1\n",
      "2018-11-15T23:15:36Z\n",
      "0\n",
      "0\n",
      "24\n",
      "Dataton2017\n",
      "2017-03-04T00:43:06Z\n",
      "3\n",
      "0\n",
      "0\n",
      "Deep-Learning-in-Python\n",
      "2018-12-27T21:21:12Z\n",
      "0\n",
      "0\n",
      "9\n",
      "EBAD\n",
      "2018-07-04T19:23:44Z\n",
      "0\n",
      "0\n",
      "2\n",
      "EV3Basic\n",
      "2018-09-10T21:46:50Z\n",
      "0\n",
      "0\n",
      "14\n",
      "hdDeepLearningStudy\n",
      "2018-02-26T21:20:56Z\n",
      "0\n",
      "0\n",
      "12\n",
      "Intro_Python\n",
      "2018-07-04T19:21:56Z\n",
      "0\n",
      "0\n",
      "0\n",
      "machine-learning\n",
      "2016-03-25T01:10:31Z\n",
      "1\n",
      "0\n",
      "0\n",
      "minibook-2nd-code\n",
      "2018-11-13T21:15:42Z\n",
      "0\n",
      "0\n",
      "0\n",
      "Mining-the-Social-Web-2nd-Edition\n",
      "2014-09-05T01:55:09Z\n",
      "2\n",
      "0\n",
      "0\n",
      "ml_class\n",
      "2016-04-22T23:31:05Z\n",
      "0\n",
      "0\n",
      "0\n",
      "modern-pandas\n",
      "2016-07-18T16:18:34Z\n",
      "1\n",
      "0\n",
      "0\n",
      "MyCode\n",
      "2013-02-13T01:35:12Z\n",
      "0\n",
      "0\n",
      "0\n",
      "open-source-rover\n",
      "2018-08-21T22:39:40Z\n",
      "0\n",
      "0\n",
      "127\n",
      "PDA_Book\n",
      "2013-08-30T16:49:02Z\n",
      "134\n",
      "146\n",
      "0\n",
      "Practical-Data-Analysis-Second-Edition\n",
      "2017-03-06T15:17:20Z\n",
      "5\n",
      "4\n",
      "0\n",
      "Probabilistic-Programming-and-Bayesian-Methods-for-Hackers\n",
      "2013-11-12T03:20:49Z\n",
      "6\n",
      "11\n",
      "0\n",
      "py4fi\n",
      "2015-11-25T03:08:12Z\n",
      "0\n",
      "1\n",
      "0\n",
      "pycon-2016-tutorial\n",
      "2016-11-10T16:31:58Z\n",
      "2\n",
      "1\n",
      "0\n",
      "pytudes\n",
      "2017-12-26T18:07:25Z\n",
      "0\n",
      "0\n",
      "0\n",
      "selfstarter\n",
      "2015-03-26T04:11:24Z\n",
      "0\n",
      "1\n",
      "0\n",
      "SG40\n",
      "2013-05-30T01:29:05Z\n",
      "1\n",
      "0\n",
      "0\n",
      "SGCE-TallerAnalisisDatos\n",
      "2015-07-01T19:19:23Z\n",
      "1\n",
      "1\n",
      "0\n",
      "SG_Curso_Data\n",
      "2014-08-19T22:42:20Z\n",
      "1\n",
      "1\n",
      "0\n",
      "SimulaEpi\n",
      "2013-02-16T22:05:38Z\n",
      "0\n",
      "1\n",
      "0\n",
      "spark-workshop\n",
      "2016-03-25T01:12:28Z\n",
      "1\n",
      "0\n",
      "0\n",
      "statistical-analysis-python-tutorial\n",
      "2013-09-15T23:57:23Z\n",
      "13\n",
      "11\n",
      "0\n",
      "strata-d3-tutorial\n",
      "2013-02-26T21:16:59Z\n",
      "2\n",
      "0\n",
      "0\n",
      "Time-Series-Forecasting\n",
      "2017-04-20T03:31:15Z\n",
      "1\n",
      "0\n",
      "0\n",
      "tmweka\n",
      "2017-08-14T00:59:00Z\n",
      "0\n",
      "0\n",
      "0\n",
      "tutorials\n",
      "2016-04-23T03:32:00Z\n",
      "0\n",
      "0\n",
      "0\n",
      "Udemy---Machine-Learning\n",
      "2017-03-30T13:37:31Z\n",
      "2\n",
      "1\n",
      "0\n",
      "yowsup\n",
      "2016-03-04T21:30:45Z\n",
      "0\n",
      "0\n",
      "0\n",
      "total interacciones 295\n"
     ]
    }
   ],
   "source": [
    "commits = 0\n",
    "for repo in gh.repositories_by('hmcuesta'):\n",
    "    print(repo.name)\n",
    "    print(repo.created_at)\n",
    "    print(repo.forks_count)\n",
    "    print(repo.stargazers_count)\n",
    "    total = 0\n",
    "    for x in repo.commit_activity():\n",
    "        total += x['total']\n",
    "    print(total)\n",
    "    commits += total\n",
    "print('total de commits ' + str(commits))"
   ]
  },
  {
   "cell_type": "code",
   "execution_count": null,
   "metadata": {
    "collapsed": true
   },
   "outputs": [],
   "source": []
  }
 ],
 "metadata": {
  "kernelspec": {
   "display_name": "Python 2",
   "language": "python",
   "name": "python2"
  },
  "language_info": {
   "codemirror_mode": {
    "name": "ipython",
    "version": 2
   },
   "file_extension": ".py",
   "mimetype": "text/x-python",
   "name": "python",
   "nbconvert_exporter": "python",
   "pygments_lexer": "ipython2",
   "version": "2.7.13"
  }
 },
 "nbformat": 4,
 "nbformat_minor": 2
}
